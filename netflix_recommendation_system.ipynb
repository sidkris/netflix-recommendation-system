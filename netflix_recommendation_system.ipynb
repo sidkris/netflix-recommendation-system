{
  "nbformat": 4,
  "nbformat_minor": 0,
  "metadata": {
    "colab": {
      "name": "netflix_recommendation_system.ipynb",
      "provenance": [],
      "collapsed_sections": []
    },
    "kernelspec": {
      "name": "python3",
      "display_name": "Python 3"
    },
    "language_info": {
      "name": "python"
    }
  },
  "cells": [
    {
      "cell_type": "code",
      "execution_count": 4,
      "metadata": {
        "colab": {
          "base_uri": "https://localhost:8080/"
        },
        "id": "UOnqEutpBNeq",
        "outputId": "12e09507-89be-4d17-cdc4-8c3f4b09d5d3"
      },
      "outputs": [
        {
          "output_type": "stream",
          "name": "stdout",
          "text": [
            "[nltk_data] Downloading package stopwords to /root/nltk_data...\n",
            "[nltk_data]   Package stopwords is already up-to-date!\n",
            "Requirement already satisfied: gensim in /usr/local/lib/python3.7/dist-packages (3.6.0)\n",
            "Requirement already satisfied: smart-open>=1.2.1 in /usr/local/lib/python3.7/dist-packages (from gensim) (5.2.1)\n",
            "Requirement already satisfied: scipy>=0.18.1 in /usr/local/lib/python3.7/dist-packages (from gensim) (1.4.1)\n",
            "Requirement already satisfied: numpy>=1.11.3 in /usr/local/lib/python3.7/dist-packages (from gensim) (1.19.5)\n",
            "Requirement already satisfied: six>=1.5.0 in /usr/local/lib/python3.7/dist-packages (from gensim) (1.15.0)\n"
          ]
        }
      ],
      "source": [
        "# Dataset Courtesy : Nidia Sahjara\n",
        "\n",
        "import pandas as pd\n",
        "import numpy as np\n",
        "import nltk\n",
        "nltk.download(\"stopwords\")\n",
        "from nltk.corpus import stopwords\n",
        "from sklearn.metrics.pairwise import linear_kernel\n",
        "from sklearn.feature_extraction.text import CountVectorizer\n",
        "from sklearn.feature_extraction.text import TfidfVectorizer\n",
        "from nltk.tokenize import RegexpTokenizer\n",
        "import re\n",
        "import string\n",
        "import random\n",
        "from PIL import Image\n",
        "import requests\n",
        "from io import BytesIO\n",
        "import matplotlib.pyplot as plt\n",
        "%matplotlib inline\n",
        "from sklearn.metrics.pairwise import cosine_similarity\n",
        "!pip install gensim\n",
        "from gensim.models import Word2Vec\n",
        "from gensim.models.phrases import Phrases, Phraser\n",
        "from gensim.models import KeyedVectors\n",
        "import warnings\n",
        "warnings.filterwarnings(action = \"ignore\", category = UserWarning, module = \"gensim\")\n",
        "warnings.filterwarnings(action = \"ignore\", category = FutureWarning, module = \"gensim\")"
      ]
    },
    {
      "cell_type": "code",
      "source": [
        "data = pd.read_csv(r\"/content/drive/MyDrive/netflix_titles.csv\")"
      ],
      "metadata": {
        "id": "2yJ4Hv0CZtti"
      },
      "execution_count": 5,
      "outputs": []
    },
    {
      "cell_type": "code",
      "source": [
        "data.columns"
      ],
      "metadata": {
        "colab": {
          "base_uri": "https://localhost:8080/"
        },
        "id": "fg6wDW_PbNJd",
        "outputId": "63472ff9-4de3-4229-968b-dc241457c05c"
      },
      "execution_count": 7,
      "outputs": [
        {
          "output_type": "execute_result",
          "data": {
            "text/plain": [
              "Index(['show_id', 'type', 'title', 'director', 'cast', 'country', 'date_added',\n",
              "       'release_year', 'rating', 'duration', 'listed_in', 'description'],\n",
              "      dtype='object')"
            ]
          },
          "metadata": {},
          "execution_count": 7
        }
      ]
    },
    {
      "cell_type": "markdown",
      "source": [
        "Extracting only the columns that we need:"
      ],
      "metadata": {
        "id": "9cSee3VScTeh"
      }
    },
    {
      "cell_type": "code",
      "source": [
        "df = data[[\"title\", \"description\", \"listed_in\"]]"
      ],
      "metadata": {
        "id": "tO1LODBTbOUv"
      },
      "execution_count": 8,
      "outputs": []
    },
    {
      "cell_type": "code",
      "source": [
        "df.head()"
      ],
      "metadata": {
        "colab": {
          "base_uri": "https://localhost:8080/",
          "height": 204
        },
        "id": "rhG9MQtHcQwU",
        "outputId": "b4cf5cfc-671d-44b2-c461-cd5028e1d9af"
      },
      "execution_count": 9,
      "outputs": [
        {
          "output_type": "execute_result",
          "data": {
            "text/html": [
              "\n",
              "  <div id=\"df-b11ebb06-d055-4c31-a018-6bf897072449\">\n",
              "    <div class=\"colab-df-container\">\n",
              "      <div>\n",
              "<style scoped>\n",
              "    .dataframe tbody tr th:only-of-type {\n",
              "        vertical-align: middle;\n",
              "    }\n",
              "\n",
              "    .dataframe tbody tr th {\n",
              "        vertical-align: top;\n",
              "    }\n",
              "\n",
              "    .dataframe thead th {\n",
              "        text-align: right;\n",
              "    }\n",
              "</style>\n",
              "<table border=\"1\" class=\"dataframe\">\n",
              "  <thead>\n",
              "    <tr style=\"text-align: right;\">\n",
              "      <th></th>\n",
              "      <th>title</th>\n",
              "      <th>description</th>\n",
              "      <th>listed_in</th>\n",
              "    </tr>\n",
              "  </thead>\n",
              "  <tbody>\n",
              "    <tr>\n",
              "      <th>0</th>\n",
              "      <td>Norm of the North: King Sized Adventure</td>\n",
              "      <td>Before planning an awesome wedding for his gra...</td>\n",
              "      <td>Children &amp; Family Movies, Comedies</td>\n",
              "    </tr>\n",
              "    <tr>\n",
              "      <th>1</th>\n",
              "      <td>Jandino: Whatever it Takes</td>\n",
              "      <td>Jandino Asporaat riffs on the challenges of ra...</td>\n",
              "      <td>Stand-Up Comedy</td>\n",
              "    </tr>\n",
              "    <tr>\n",
              "      <th>2</th>\n",
              "      <td>Transformers Prime</td>\n",
              "      <td>With the help of three human allies, the Autob...</td>\n",
              "      <td>Kids' TV</td>\n",
              "    </tr>\n",
              "    <tr>\n",
              "      <th>3</th>\n",
              "      <td>Transformers: Robots in Disguise</td>\n",
              "      <td>When a prison ship crash unleashes hundreds of...</td>\n",
              "      <td>Kids' TV</td>\n",
              "    </tr>\n",
              "    <tr>\n",
              "      <th>4</th>\n",
              "      <td>#realityhigh</td>\n",
              "      <td>When nerdy high schooler Dani finally attracts...</td>\n",
              "      <td>Comedies</td>\n",
              "    </tr>\n",
              "  </tbody>\n",
              "</table>\n",
              "</div>\n",
              "      <button class=\"colab-df-convert\" onclick=\"convertToInteractive('df-b11ebb06-d055-4c31-a018-6bf897072449')\"\n",
              "              title=\"Convert this dataframe to an interactive table.\"\n",
              "              style=\"display:none;\">\n",
              "        \n",
              "  <svg xmlns=\"http://www.w3.org/2000/svg\" height=\"24px\"viewBox=\"0 0 24 24\"\n",
              "       width=\"24px\">\n",
              "    <path d=\"M0 0h24v24H0V0z\" fill=\"none\"/>\n",
              "    <path d=\"M18.56 5.44l.94 2.06.94-2.06 2.06-.94-2.06-.94-.94-2.06-.94 2.06-2.06.94zm-11 1L8.5 8.5l.94-2.06 2.06-.94-2.06-.94L8.5 2.5l-.94 2.06-2.06.94zm10 10l.94 2.06.94-2.06 2.06-.94-2.06-.94-.94-2.06-.94 2.06-2.06.94z\"/><path d=\"M17.41 7.96l-1.37-1.37c-.4-.4-.92-.59-1.43-.59-.52 0-1.04.2-1.43.59L10.3 9.45l-7.72 7.72c-.78.78-.78 2.05 0 2.83L4 21.41c.39.39.9.59 1.41.59.51 0 1.02-.2 1.41-.59l7.78-7.78 2.81-2.81c.8-.78.8-2.07 0-2.86zM5.41 20L4 18.59l7.72-7.72 1.47 1.35L5.41 20z\"/>\n",
              "  </svg>\n",
              "      </button>\n",
              "      \n",
              "  <style>\n",
              "    .colab-df-container {\n",
              "      display:flex;\n",
              "      flex-wrap:wrap;\n",
              "      gap: 12px;\n",
              "    }\n",
              "\n",
              "    .colab-df-convert {\n",
              "      background-color: #E8F0FE;\n",
              "      border: none;\n",
              "      border-radius: 50%;\n",
              "      cursor: pointer;\n",
              "      display: none;\n",
              "      fill: #1967D2;\n",
              "      height: 32px;\n",
              "      padding: 0 0 0 0;\n",
              "      width: 32px;\n",
              "    }\n",
              "\n",
              "    .colab-df-convert:hover {\n",
              "      background-color: #E2EBFA;\n",
              "      box-shadow: 0px 1px 2px rgba(60, 64, 67, 0.3), 0px 1px 3px 1px rgba(60, 64, 67, 0.15);\n",
              "      fill: #174EA6;\n",
              "    }\n",
              "\n",
              "    [theme=dark] .colab-df-convert {\n",
              "      background-color: #3B4455;\n",
              "      fill: #D2E3FC;\n",
              "    }\n",
              "\n",
              "    [theme=dark] .colab-df-convert:hover {\n",
              "      background-color: #434B5C;\n",
              "      box-shadow: 0px 1px 3px 1px rgba(0, 0, 0, 0.15);\n",
              "      filter: drop-shadow(0px 1px 2px rgba(0, 0, 0, 0.3));\n",
              "      fill: #FFFFFF;\n",
              "    }\n",
              "  </style>\n",
              "\n",
              "      <script>\n",
              "        const buttonEl =\n",
              "          document.querySelector('#df-b11ebb06-d055-4c31-a018-6bf897072449 button.colab-df-convert');\n",
              "        buttonEl.style.display =\n",
              "          google.colab.kernel.accessAllowed ? 'block' : 'none';\n",
              "\n",
              "        async function convertToInteractive(key) {\n",
              "          const element = document.querySelector('#df-b11ebb06-d055-4c31-a018-6bf897072449');\n",
              "          const dataTable =\n",
              "            await google.colab.kernel.invokeFunction('convertToInteractive',\n",
              "                                                     [key], {});\n",
              "          if (!dataTable) return;\n",
              "\n",
              "          const docLinkHtml = 'Like what you see? Visit the ' +\n",
              "            '<a target=\"_blank\" href=https://colab.research.google.com/notebooks/data_table.ipynb>data table notebook</a>'\n",
              "            + ' to learn more about interactive tables.';\n",
              "          element.innerHTML = '';\n",
              "          dataTable['output_type'] = 'display_data';\n",
              "          await google.colab.output.renderOutput(dataTable, element);\n",
              "          const docLink = document.createElement('div');\n",
              "          docLink.innerHTML = docLinkHtml;\n",
              "          element.appendChild(docLink);\n",
              "        }\n",
              "      </script>\n",
              "    </div>\n",
              "  </div>\n",
              "  "
            ],
            "text/plain": [
              "                                     title  ...                           listed_in\n",
              "0  Norm of the North: King Sized Adventure  ...  Children & Family Movies, Comedies\n",
              "1               Jandino: Whatever it Takes  ...                     Stand-Up Comedy\n",
              "2                       Transformers Prime  ...                            Kids' TV\n",
              "3         Transformers: Robots in Disguise  ...                            Kids' TV\n",
              "4                             #realityhigh  ...                            Comedies\n",
              "\n",
              "[5 rows x 3 columns]"
            ]
          },
          "metadata": {},
          "execution_count": 9
        }
      ]
    },
    {
      "cell_type": "code",
      "source": [
        "df.isnull().sum()"
      ],
      "metadata": {
        "colab": {
          "base_uri": "https://localhost:8080/"
        },
        "id": "dTycTRxpcRx5",
        "outputId": "21550419-9400-4072-f85b-918c547436f9"
      },
      "execution_count": 12,
      "outputs": [
        {
          "output_type": "execute_result",
          "data": {
            "text/plain": [
              "title          0\n",
              "description    0\n",
              "listed_in      0\n",
              "dtype: int64"
            ]
          },
          "metadata": {},
          "execution_count": 12
        }
      ]
    },
    {
      "cell_type": "code",
      "source": [
        "df[\"word count\"] = df.description.apply(lambda x: len(str(x).split()))\n",
        "ax = df[\"word count\"].plot(\n",
        "    kind = \"hist\",\n",
        "    bins = 10,\n",
        "    color = \"red\",\n",
        "    figsize = (12, 10),\n",
        "    title = \"Word Count Distribution for Netflix Title Descriptions\"\n",
        ")\n",
        "\n",
        "ax.title.set_color(\"Red\")\n",
        "ax.yaxis.label.set_color(\"Red\")\n",
        "ax.xaxis.label.set_color(\"Red\")"
      ],
      "metadata": {
        "colab": {
          "base_uri": "https://localhost:8080/",
          "height": 709
        },
        "id": "llGmB2Wdckk8",
        "outputId": "833ff637-f5b6-4717-b724-f0387af0c851"
      },
      "execution_count": 15,
      "outputs": [
        {
          "output_type": "stream",
          "name": "stderr",
          "text": [
            "/usr/local/lib/python3.7/dist-packages/ipykernel_launcher.py:1: SettingWithCopyWarning: \n",
            "A value is trying to be set on a copy of a slice from a DataFrame.\n",
            "Try using .loc[row_indexer,col_indexer] = value instead\n",
            "\n",
            "See the caveats in the documentation: https://pandas.pydata.org/pandas-docs/stable/user_guide/indexing.html#returning-a-view-versus-a-copy\n",
            "  \"\"\"Entry point for launching an IPython kernel.\n"
          ]
        },
        {
          "output_type": "display_data",
          "data": {
            "image/png": "[encoded data removed]",
            "text/plain": [
              "<Figure size 864x720 with 1 Axes>"
            ]
          },
          "metadata": {
            "needs_background": "light"
          }
        }
      ]
    },
    {
      "cell_type": "code",
      "source": [
        "# -----Preprocessing-----\n",
        "\n",
        "# remove non - ascii \n",
        "\n",
        "def remove_ascii(str):\n",
        "  output = \"\".join(i for i in str if ord(i) < 128)\n",
        "  return output.lower()\n",
        "\n",
        "def lowercase(str):\n",
        "  return str.lower()\n",
        "\n",
        "def remove_stopwords(str):\n",
        "  x = str.split()\n",
        "  stops = set(stopwords.words(\"english\"))\n",
        "  text = [word for word in x if not word in stops]\n",
        "  output = \" \".join(text)\n",
        "  return output\n",
        "\n",
        "def clean_html(str):\n",
        "  html = re.compile(\"<.*?>\")\n",
        "  return html.sub(r\"\", str)\n",
        "\n",
        "def punc(str):\n",
        "  token = RegexpTokenizer(r\"\\w+\")\n",
        "  text = token.tokenize(str)\n",
        "  output = \" \".join(text)\n",
        "  return output"
      ],
      "metadata": {
        "id": "cKlPTb1ydx3p"
      },
      "execution_count": 43,
      "outputs": []
    },
    {
      "cell_type": "code",
      "source": [
        "df[\"clean description\"] = df.description.apply(func = remove_ascii)\n",
        "df[\"clean description\"] = df[\"clean description\"].apply(func = lowercase)\n",
        "df[\"clean description\"] = df[\"clean description\"].apply(func = remove_stopwords)\n",
        "df[\"clean description\"] = df[\"clean description\"].apply(func = clean_html)\n",
        "df[\"clean description\"] = df[\"clean description\"].apply(func = punc)"
      ],
      "metadata": {
        "colab": {
          "base_uri": "https://localhost:8080/"
        },
        "id": "ocnllcurewZh",
        "outputId": "fddb4143-cd88-4eef-dbf1-a3c905ae98e2"
      },
      "execution_count": 44,
      "outputs": [
        {
          "output_type": "stream",
          "name": "stderr",
          "text": [
            "/usr/local/lib/python3.7/dist-packages/ipykernel_launcher.py:1: SettingWithCopyWarning: \n",
            "A value is trying to be set on a copy of a slice from a DataFrame.\n",
            "Try using .loc[row_indexer,col_indexer] = value instead\n",
            "\n",
            "See the caveats in the documentation: https://pandas.pydata.org/pandas-docs/stable/user_guide/indexing.html#returning-a-view-versus-a-copy\n",
            "  \"\"\"Entry point for launching an IPython kernel.\n",
            "/usr/local/lib/python3.7/dist-packages/ipykernel_launcher.py:2: SettingWithCopyWarning: \n",
            "A value is trying to be set on a copy of a slice from a DataFrame.\n",
            "Try using .loc[row_indexer,col_indexer] = value instead\n",
            "\n",
            "See the caveats in the documentation: https://pandas.pydata.org/pandas-docs/stable/user_guide/indexing.html#returning-a-view-versus-a-copy\n",
            "  \n",
            "/usr/local/lib/python3.7/dist-packages/ipykernel_launcher.py:3: SettingWithCopyWarning: \n",
            "A value is trying to be set on a copy of a slice from a DataFrame.\n",
            "Try using .loc[row_indexer,col_indexer] = value instead\n",
            "\n",
            "See the caveats in the documentation: https://pandas.pydata.org/pandas-docs/stable/user_guide/indexing.html#returning-a-view-versus-a-copy\n",
            "  This is separate from the ipykernel package so we can avoid doing imports until\n",
            "/usr/local/lib/python3.7/dist-packages/ipykernel_launcher.py:4: SettingWithCopyWarning: \n",
            "A value is trying to be set on a copy of a slice from a DataFrame.\n",
            "Try using .loc[row_indexer,col_indexer] = value instead\n",
            "\n",
            "See the caveats in the documentation: https://pandas.pydata.org/pandas-docs/stable/user_guide/indexing.html#returning-a-view-versus-a-copy\n",
            "  after removing the cwd from sys.path.\n",
            "/usr/local/lib/python3.7/dist-packages/ipykernel_launcher.py:5: SettingWithCopyWarning: \n",
            "A value is trying to be set on a copy of a slice from a DataFrame.\n",
            "Try using .loc[row_indexer,col_indexer] = value instead\n",
            "\n",
            "See the caveats in the documentation: https://pandas.pydata.org/pandas-docs/stable/user_guide/indexing.html#returning-a-view-versus-a-copy\n",
            "  \"\"\"\n"
          ]
        }
      ]
    },
    {
      "cell_type": "code",
      "source": [
        "df.head()"
      ],
      "metadata": {
        "colab": {
          "base_uri": "https://localhost:8080/",
          "height": 299
        },
        "id": "k2nDgVx6j7rI",
        "outputId": "ed9f1d3b-0e08-4465-d7f5-9d2f751e3677"
      },
      "execution_count": 45,
      "outputs": [
        {
          "output_type": "execute_result",
          "data": {
            "text/html": [
              "\n",
              "  <div id=\"df-fbaae2e8-09ad-42cf-9a10-290675f50e5a\">\n",
              "    <div class=\"colab-df-container\">\n",
              "      <div>\n",
              "<style scoped>\n",
              "    .dataframe tbody tr th:only-of-type {\n",
              "        vertical-align: middle;\n",
              "    }\n",
              "\n",
              "    .dataframe tbody tr th {\n",
              "        vertical-align: top;\n",
              "    }\n",
              "\n",
              "    .dataframe thead th {\n",
              "        text-align: right;\n",
              "    }\n",
              "</style>\n",
              "<table border=\"1\" class=\"dataframe\">\n",
              "  <thead>\n",
              "    <tr style=\"text-align: right;\">\n",
              "      <th></th>\n",
              "      <th>title</th>\n",
              "      <th>description</th>\n",
              "      <th>listed_in</th>\n",
              "      <th>word count</th>\n",
              "      <th>clean description</th>\n",
              "    </tr>\n",
              "  </thead>\n",
              "  <tbody>\n",
              "    <tr>\n",
              "      <th>0</th>\n",
              "      <td>Norm of the North: King Sized Adventure</td>\n",
              "      <td>Before planning an awesome wedding for his gra...</td>\n",
              "      <td>Children &amp; Family Movies, Comedies</td>\n",
              "      <td>23</td>\n",
              "      <td>planning awesome wedding grandfather polar bea...</td>\n",
              "    </tr>\n",
              "    <tr>\n",
              "      <th>1</th>\n",
              "      <td>Jandino: Whatever it Takes</td>\n",
              "      <td>Jandino Asporaat riffs on the challenges of ra...</td>\n",
              "      <td>Stand-Up Comedy</td>\n",
              "      <td>25</td>\n",
              "      <td>jandino asporaat riffs challenges raising kids...</td>\n",
              "    </tr>\n",
              "    <tr>\n",
              "      <th>2</th>\n",
              "      <td>Transformers Prime</td>\n",
              "      <td>With the help of three human allies, the Autob...</td>\n",
              "      <td>Kids' TV</td>\n",
              "      <td>23</td>\n",
              "      <td>help three human allies autobots protect earth...</td>\n",
              "    </tr>\n",
              "    <tr>\n",
              "      <th>3</th>\n",
              "      <td>Transformers: Robots in Disguise</td>\n",
              "      <td>When a prison ship crash unleashes hundreds of...</td>\n",
              "      <td>Kids' TV</td>\n",
              "      <td>20</td>\n",
              "      <td>prison ship crash unleashes hundreds deceptico...</td>\n",
              "    </tr>\n",
              "    <tr>\n",
              "      <th>4</th>\n",
              "      <td>#realityhigh</td>\n",
              "      <td>When nerdy high schooler Dani finally attracts...</td>\n",
              "      <td>Comedies</td>\n",
              "      <td>26</td>\n",
              "      <td>nerdy high schooler dani finally attracts inte...</td>\n",
              "    </tr>\n",
              "  </tbody>\n",
              "</table>\n",
              "</div>\n",
              "      <button class=\"colab-df-convert\" onclick=\"convertToInteractive('df-fbaae2e8-09ad-42cf-9a10-290675f50e5a')\"\n",
              "              title=\"Convert this dataframe to an interactive table.\"\n",
              "              style=\"display:none;\">\n",
              "        \n",
              "  <svg xmlns=\"http://www.w3.org/2000/svg\" height=\"24px\"viewBox=\"0 0 24 24\"\n",
              "       width=\"24px\">\n",
              "    <path d=\"M0 0h24v24H0V0z\" fill=\"none\"/>\n",
              "    <path d=\"M18.56 5.44l.94 2.06.94-2.06 2.06-.94-2.06-.94-.94-2.06-.94 2.06-2.06.94zm-11 1L8.5 8.5l.94-2.06 2.06-.94-2.06-.94L8.5 2.5l-.94 2.06-2.06.94zm10 10l.94 2.06.94-2.06 2.06-.94-2.06-.94-.94-2.06-.94 2.06-2.06.94z\"/><path d=\"M17.41 7.96l-1.37-1.37c-.4-.4-.92-.59-1.43-.59-.52 0-1.04.2-1.43.59L10.3 9.45l-7.72 7.72c-.78.78-.78 2.05 0 2.83L4 21.41c.39.39.9.59 1.41.59.51 0 1.02-.2 1.41-.59l7.78-7.78 2.81-2.81c.8-.78.8-2.07 0-2.86zM5.41 20L4 18.59l7.72-7.72 1.47 1.35L5.41 20z\"/>\n",
              "  </svg>\n",
              "      </button>\n",
              "      \n",
              "  <style>\n",
              "    .colab-df-container {\n",
              "      display:flex;\n",
              "      flex-wrap:wrap;\n",
              "      gap: 12px;\n",
              "    }\n",
              "\n",
              "    .colab-df-convert {\n",
              "      background-color: #E8F0FE;\n",
              "      border: none;\n",
              "      border-radius: 50%;\n",
              "      cursor: pointer;\n",
              "      display: none;\n",
              "      fill: #1967D2;\n",
              "      height: 32px;\n",
              "      padding: 0 0 0 0;\n",
              "      width: 32px;\n",
              "    }\n",
              "\n",
              "    .colab-df-convert:hover {\n",
              "      background-color: #E2EBFA;\n",
              "      box-shadow: 0px 1px 2px rgba(60, 64, 67, 0.3), 0px 1px 3px 1px rgba(60, 64, 67, 0.15);\n",
              "      fill: #174EA6;\n",
              "    }\n",
              "\n",
              "    [theme=dark] .colab-df-convert {\n",
              "      background-color: #3B4455;\n",
              "      fill: #D2E3FC;\n",
              "    }\n",
              "\n",
              "    [theme=dark] .colab-df-convert:hover {\n",
              "      background-color: #434B5C;\n",
              "      box-shadow: 0px 1px 3px 1px rgba(0, 0, 0, 0.15);\n",
              "      filter: drop-shadow(0px 1px 2px rgba(0, 0, 0, 0.3));\n",
              "      fill: #FFFFFF;\n",
              "    }\n",
              "  </style>\n",
              "\n",
              "      <script>\n",
              "        const buttonEl =\n",
              "          document.querySelector('#df-fbaae2e8-09ad-42cf-9a10-290675f50e5a button.colab-df-convert');\n",
              "        buttonEl.style.display =\n",
              "          google.colab.kernel.accessAllowed ? 'block' : 'none';\n",
              "\n",
              "        async function convertToInteractive(key) {\n",
              "          const element = document.querySelector('#df-fbaae2e8-09ad-42cf-9a10-290675f50e5a');\n",
              "          const dataTable =\n",
              "            await google.colab.kernel.invokeFunction('convertToInteractive',\n",
              "                                                     [key], {});\n",
              "          if (!dataTable) return;\n",
              "\n",
              "          const docLinkHtml = 'Like what you see? Visit the ' +\n",
              "            '<a target=\"_blank\" href=https://colab.research.google.com/notebooks/data_table.ipynb>data table notebook</a>'\n",
              "            + ' to learn more about interactive tables.';\n",
              "          element.innerHTML = '';\n",
              "          dataTable['output_type'] = 'display_data';\n",
              "          await google.colab.output.renderOutput(dataTable, element);\n",
              "          const docLink = document.createElement('div');\n",
              "          docLink.innerHTML = docLinkHtml;\n",
              "          element.appendChild(docLink);\n",
              "        }\n",
              "      </script>\n",
              "    </div>\n",
              "  </div>\n",
              "  "
            ],
            "text/plain": [
              "                                     title  ...                                  clean description\n",
              "0  Norm of the North: King Sized Adventure  ...  planning awesome wedding grandfather polar bea...\n",
              "1               Jandino: Whatever it Takes  ...  jandino asporaat riffs challenges raising kids...\n",
              "2                       Transformers Prime  ...  help three human allies autobots protect earth...\n",
              "3         Transformers: Robots in Disguise  ...  prison ship crash unleashes hundreds deceptico...\n",
              "4                             #realityhigh  ...  nerdy high schooler dani finally attracts inte...\n",
              "\n",
              "[5 rows x 5 columns]"
            ]
          },
          "metadata": {},
          "execution_count": 45
        }
      ]
    },
    {
      "cell_type": "code",
      "source": [
        "# Word2Vec\n",
        "\n",
        "corpus = []\n",
        "\n",
        "for words in df[\"clean description\"]:\n",
        "  corpus.append(words.split())"
      ],
      "metadata": {
        "id": "vN9gUVRDkAs9"
      },
      "execution_count": 46,
      "outputs": []
    },
    {
      "cell_type": "code",
      "source": [
        "len(corpus)"
      ],
      "metadata": {
        "colab": {
          "base_uri": "https://localhost:8080/"
        },
        "id": "QHx3RCiQmUiz",
        "outputId": "fd1003f1-574f-4f93-853a-3bfe4b30eb86"
      },
      "execution_count": 47,
      "outputs": [
        {
          "output_type": "execute_result",
          "data": {
            "text/plain": [
              "6234"
            ]
          },
          "metadata": {},
          "execution_count": 47
        }
      ]
    },
    {
      "cell_type": "code",
      "source": [
        "# Transfer Learning using the pre-trained Google News Model (GoogleNews-vectors-negative300) with the gensim lib\n",
        "\n",
        "!wget -P /root/input/ -c \"https://s3.amazonaws.com/dl4j-distribution/GoogleNews-vectors-negative300.bin.gz\"\n"
      ],
      "metadata": {
        "colab": {
          "base_uri": "https://localhost:8080/"
        },
        "id": "MeKYcMUhmY40",
        "outputId": "8de738fa-49cd-46c7-da8d-60575956a260"
      },
      "execution_count": 55,
      "outputs": [
        {
          "output_type": "stream",
          "name": "stdout",
          "text": [
            "--2022-01-17 06:03:45--  https://s3.amazonaws.com/dl4j-distribution/GoogleNews-vectors-negative300.bin.gz\n",
            "Resolving s3.amazonaws.com (s3.amazonaws.com)... 54.231.139.144\n",
            "Connecting to s3.amazonaws.com (s3.amazonaws.com)|54.231.139.144|:443... connected.\n",
            "HTTP request sent, awaiting response... 416 Requested Range Not Satisfiable\n",
            "\n",
            "    The file is already fully retrieved; nothing to do.\n",
            "\n"
          ]
        }
      ]
    },
    {
      "cell_type": "code",
      "source": [
        "EMBEDDING_FILE = \"/root/input/GoogleNews-vectors-negative300.bin.gz\""
      ],
      "metadata": {
        "id": "O_kO95H8mg52"
      },
      "execution_count": 56,
      "outputs": []
    },
    {
      "cell_type": "markdown",
      "source": [
        "training corpus with Google pretrained model"
      ],
      "metadata": {
        "id": "SDGJwbGooufR"
      }
    },
    {
      "cell_type": "code",
      "source": [
        "pretrained_model = Word2Vec(size = 300, window = 5, min_count = 2, workers = -1)\n",
        "pretrained_model.build_vocab(corpus)\n",
        "pretrained_model.intersect_word2vec_format(EMBEDDING_FILE, lockf = 1.0, binary = True)\n",
        "pretrained_model.train(corpus, total_examples = pretrained_model.corpus_count, epochs = 5)"
      ],
      "metadata": {
        "colab": {
          "base_uri": "https://localhost:8080/"
        },
        "id": "uFseZ8_Wntri",
        "outputId": "52e2f8bb-8341-4cdd-8974-d5257ab474bb"
      },
      "execution_count": 63,
      "outputs": [
        {
          "output_type": "execute_result",
          "data": {
            "text/plain": [
              "(0, 0)"
            ]
          },
          "metadata": {},
          "execution_count": 63
        }
      ]
    },
    {
      "cell_type": "code",
      "source": [
        "type(pretrained_model)"
      ],
      "metadata": {
        "colab": {
          "base_uri": "https://localhost:8080/"
        },
        "id": "jkiJ_Ravo1xN",
        "outputId": "fd5400aa-8756-488e-d9d2-d286bdff3f93"
      },
      "execution_count": 64,
      "outputs": [
        {
          "output_type": "execute_result",
          "data": {
            "text/plain": [
              "gensim.models.word2vec.Word2Vec"
            ]
          },
          "metadata": {},
          "execution_count": 64
        }
      ]
    },
    {
      "cell_type": "code",
      "source": [
        "# test\n",
        "pretrained_model.wv.most_similar(positive = [\"india\"]) # the positive parameter gives a list of keys that contribute positively"
      ],
      "metadata": {
        "colab": {
          "base_uri": "https://localhost:8080/"
        },
        "id": "4SwfxL9DpsMX",
        "outputId": "4554e536-5878-4acf-e607-581359688196"
      },
      "execution_count": 76,
      "outputs": [
        {
          "output_type": "execute_result",
          "data": {
            "text/plain": [
              "[('indian', 0.6967039704322815),\n",
              " ('pakistan', 0.6815168261528015),\n",
              " ('chennai', 0.6675503849983215),\n",
              " ('america', 0.6589398980140686),\n",
              " ('canada', 0.6490967869758606),\n",
              " ('australia', 0.6368584036827087),\n",
              " ('mexico', 0.6239137649536133),\n",
              " ('uk', 0.6221641898155212),\n",
              " ('kerala', 0.6117700934410095),\n",
              " ('malaysia', 0.6090297698974609)]"
            ]
          },
          "metadata": {},
          "execution_count": 76
        }
      ]
    },
    {
      "cell_type": "code",
      "source": [
        "# test 2\n",
        "pretrained_model.wv.similarity(\"king\", \"prince\")"
      ],
      "metadata": {
        "colab": {
          "base_uri": "https://localhost:8080/"
        },
        "id": "sLvo-gS1uWpw",
        "outputId": "700561eb-944f-4e7e-ec24-0d2bc618cac6"
      },
      "execution_count": 80,
      "outputs": [
        {
          "output_type": "execute_result",
          "data": {
            "text/plain": [
              "0.61599934"
            ]
          },
          "metadata": {},
          "execution_count": 80
        }
      ]
    },
    {
      "cell_type": "code",
      "source": [
        "# test 3\n",
        "pretrained_model.wv.similarity(\"king\", \"leg\")"
      ],
      "metadata": {
        "colab": {
          "base_uri": "https://localhost:8080/"
        },
        "id": "Z8ci9VG6vDIX",
        "outputId": "fb32fe74-8486-4481-f5da-0f6fa6c91ead"
      },
      "execution_count": 81,
      "outputs": [
        {
          "output_type": "execute_result",
          "data": {
            "text/plain": [
              "0.07946689"
            ]
          },
          "metadata": {},
          "execution_count": 81
        }
      ]
    },
    {
      "cell_type": "code",
      "source": [
        "# function to define average word2vec for each netflix description\n",
        "\n",
        "def vectorizer(x):\n",
        "\n",
        "  global embeddings\n",
        "  embeddings = [] # list to store all the vectors / vectorized netflix descriptions\n",
        "  for line in df[\"clean description\"]:\n",
        "    count = 0\n",
        "    w2v = NoneCount = 0\n",
        "    for word in line.split():\n",
        "      if word in pretrained_model.wv.vocab:\n",
        "        count += 1\n",
        "        if w2v is None:\n",
        "          w2v = pretrained_model.wv[word]\n",
        "        else:\n",
        "          w2v += pretrained_model.wv[word]\n",
        "    \n",
        "    if w2v is not None:\n",
        "      w2v = w2v / count\n",
        "      embeddings.append(w2v)"
      ],
      "metadata": {
        "id": "hGI2oSaLvTEA"
      },
      "execution_count": 105,
      "outputs": []
    },
    {
      "cell_type": "code",
      "source": [
        "# function to gt most similar shows\n",
        "\n",
        "def most_similar(title):\n",
        "  vectorizer(df)\n",
        "  cos_sim = cosine_similarity(embeddings, embeddings)\n",
        "  netflix_shows = df[[\"title\"]] # a new data frame with reversed indexes\n",
        "  indices = pd.Series(df.index, index = df[\"title\"]).drop_duplicates()\n",
        "  ix = indices[title]\n",
        "  cos_sim_ = list(enumerate(cos_sim[ix]))\n",
        "  cos_sim_ = sorted(cos_sim_, key = lambda x: x[1], reverse = True)\n",
        "  cos_sim_ = cos_sim_[1:6] # top 5 similar shows\n",
        "  netflix_index = [i[0] for i in cos_sim_]\n",
        "  watch_next = netflix_shows.iloc[netflix_index]\n",
        "  for index, row in watch_next.iterrows():\n",
        "    print(row[\"title\"])\n",
        "\n"
      ],
      "metadata": {
        "id": "tWCcuxzNxdoT"
      },
      "execution_count": 106,
      "outputs": []
    },
    {
      "cell_type": "code",
      "source": [
        "most_similar(\"Narcos\")"
      ],
      "metadata": {
        "colab": {
          "base_uri": "https://localhost:8080/"
        },
        "id": "2JkmVf2WzWV6",
        "outputId": "c07c4568-4ab6-41c6-b15b-4dbd5d1643f5"
      },
      "execution_count": 126,
      "outputs": [
        {
          "output_type": "stream",
          "name": "stdout",
          "text": [
            "Narcos: Mexico\n",
            "El Chapo\n",
            "Saaho\n",
            "Pablo Escobar, el patrón del mal\n",
            "Paid in Full\n"
          ]
        }
      ]
    },
    {
      "cell_type": "code",
      "source": [
        ""
      ],
      "metadata": {
        "id": "ZxU1pbwqzYb3"
      },
      "execution_count": null,
      "outputs": []
    }
  ]
}